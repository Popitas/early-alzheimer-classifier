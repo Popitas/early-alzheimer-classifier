{
 "cells": [
  {
   "cell_type": "markdown",
   "metadata": {},
   "source": [
    "# La patogénesis del alzhéimer: clasificación precoz mediante redes neuronales\n",
    "_**Objetivo:** distinguir a sujetos que puedan desarrollar alzhéimer con una exactitud superior al 65% y una antelación al diagnóstico de más de tres años._\n",
    "\n",
    "_**Datos** del proyecto [OASIS 3](https://www.oasis-brains.org/)._\n",
    "\n",
    "_**Entorno de desarrollo empleado:** MacOS Monterey 12.5.1 con Miniconda y [Mamba](https://mamba.readthedocs.io/en/latest/installation.html) instalados_\n"
   ]
  },
  {
   "cell_type": "markdown",
   "metadata": {},
   "source": [
    "### Tarea previa: obtener el listados de sesiones y diagnósticos\n",
    "1. Pedir acceso en https://www.oasis-brains.org/#access\n",
    "2. Esperar a la concesión\n",
    "3. Crear un usuario mediante el mail de confirmación recibido\n",
    "4. Acceder a la plataforma [XNAT](https://central.xnat.org/)\n",
    "5. Identificarse\n",
    "6. Abrir el proyecto OASIS3\n",
    "7. Abrir la pestaña (tab) **MR Sessions**\n",
    "8. Descargar fichero CSV en: Options > Spreadsheet\n",
    "9. Colocar el fichero en el mismo directorio de este notebook\n",
    "10. Abrir la pestaña (tab) **ADRC Clinical Data**\n",
    "11. Descargar fichero CSV en: Options > Spreadsheet\n",
    "12. Colocar el fichero en el mismo directorio de este notebook"
   ]
  },
  {
   "cell_type": "markdown",
   "metadata": {},
   "source": [
    "### Obtención de datos\n",
    "Del CSV de sesiones decargado (aquí llamado `oasis3_mr_list.csv`), solo necesitamos los ID de las sesiones para la descarga de IRM:"
   ]
  },
  {
   "cell_type": "code",
   "execution_count": null,
   "metadata": {},
   "outputs": [],
   "source": [
    "import pandas as pd\n",
    "\n",
    "sessionsDF = pd.read_csv('oasis3_mr_list.csv')\n",
    "sessionsDF = sessionsDF[['MR ID']]\n",
    "sessionsDF.head()\n",
    "sessionsDF.to_csv('oasis3_sessions_list.csv', header=None, index=False)"
   ]
  },
  {
   "cell_type": "markdown",
   "metadata": {},
   "source": [
    "\n",
    "Para la obtención de las IRM, se utilizan los scripts oficiales que nos ofrece la plataforma XNAT.\n",
    "\n",
    "En este caso, se van a estandarizar las IRM empleadas al tipo T1w.\n",
    "\n",
    "En línea de comandos (fuera de Python), ejecutar:\n",
    "\n",
    "    git clone https://github.com/NrgXnat/oasis-scripts.git\n",
    "    sudo chmod u+x ./oasis-scripts/download_scans/download_oasis_scans.sh\n",
    "    ./oasis-scripts/download_scans/download_oasis_scans.sh oasis3_sessions_list.csv scans $USUARIO_XNAT T1w\n",
    "\n",
    "> Reemplazar `$USUARIO_XNAT` por nuestro usuario real."
   ]
  },
  {
   "cell_type": "code",
   "execution_count": null,
   "metadata": {},
   "outputs": [],
   "source": []
  }
 ],
 "metadata": {
  "kernelspec": {
   "display_name": "Python 3.8.6 ('tf')",
   "language": "python",
   "name": "python3"
  },
  "language_info": {
   "codemirror_mode": {
    "name": "ipython",
    "version": 3
   },
   "file_extension": ".py",
   "mimetype": "text/x-python",
   "name": "python",
   "nbconvert_exporter": "python",
   "pygments_lexer": "ipython3",
   "version": "3.8.6"
  },
  "orig_nbformat": 4,
  "vscode": {
   "interpreter": {
    "hash": "a8e986077e269dc5e33c703015a06449a51145bd40e97e847dfabf518a1b485f"
   }
  }
 },
 "nbformat": 4,
 "nbformat_minor": 2
}
